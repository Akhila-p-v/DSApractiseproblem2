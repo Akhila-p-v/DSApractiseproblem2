{
  "nbformat": 4,
  "nbformat_minor": 0,
  "metadata": {
    "colab": {
      "provenance": []
    },
    "kernelspec": {
      "name": "python3",
      "display_name": "Python 3"
    },
    "language_info": {
      "name": "python"
    }
  },
  "cells": [
    {
      "cell_type": "markdown",
      "source": [
        "**PRACTICE EXERCISE 2**"
      ],
      "metadata": {
        "id": "JKnO32trvhUf"
      }
    },
    {
      "cell_type": "markdown",
      "source": [
        "\n",
        "1. Write a Python program to accept a string value from the user and display\n",
        "the count of each character in that string. Sample input: Enter a string\n",
        "value: assembly Sample output: a=1, s=2, e=1, m=1, b=1, l=1, y=1"
      ],
      "metadata": {
        "id": "vJIImxbIvvZU"
      }
    },
    {
      "cell_type": "code",
      "source": [
        "input_string = input(\"Enter a string value: \")                  # to input string from the user\n",
        "char_counts = {}\n",
        "for char in input_string:                                       # Iterate through each character in the input string\n",
        "    char_counts[char] = char_counts.get(char, 0) + 1            # Update the count in the dictionary\n",
        "print(\"output:\", end=\" \")\n",
        "for char, count in char_counts.items():\n",
        "    print(f\"{char}={count}\", end=\", \")\n",
        "print()\n"
      ],
      "metadata": {
        "colab": {
          "base_uri": "https://localhost:8080/"
        },
        "id": "y-43-G244I73",
        "outputId": "621984ac-26a7-44b7-c2da-70a9e8d4b231"
      },
      "execution_count": 1,
      "outputs": [
        {
          "output_type": "stream",
          "name": "stdout",
          "text": [
            "Enter a string value: assembly\n",
            "output: a=1, s=2, e=1, m=1, b=1, l=1, y=1, \n"
          ]
        }
      ]
    },
    {
      "cell_type": "markdown",
      "source": [
        "2. . Write a Python function to find the maximum of three numbers Sample\n",
        "input: 34,12,7 Sample output: 34"
      ],
      "metadata": {
        "id": "5c6PrAo3wiGf"
      }
    },
    {
      "cell_type": "code",
      "source": [
        "def find_maximum(num1, num2, num3):                          # Find the maximum of three numbers\n",
        "    return max(num1, num2, num3)\n",
        "num1 = float(input(\"Enter the first number: \"))            # to get three numbers from the user\n",
        "num2 = float(input(\"Enter the second number: \"))\n",
        "num3 = float(input(\"Enter the third number: \"))\n",
        "maximum_number = find_maximum(num1, num2, num3)            # Call the function\n",
        "print(\"The maximum number is:\", maximum_number)            # display the result\n"
      ],
      "metadata": {
        "colab": {
          "base_uri": "https://localhost:8080/"
        },
        "id": "ROGVxhcb5BOd",
        "outputId": "6f3ff413-23b7-41ea-a995-1fddc8126442"
      },
      "execution_count": null,
      "outputs": [
        {
          "output_type": "stream",
          "name": "stdout",
          "text": [
            "Enter the first number: 34\n",
            "Enter the second number: 12\n",
            "Enter the third number: 7\n",
            "The maximum number is: 34.0\n"
          ]
        }
      ]
    },
    {
      "cell_type": "markdown",
      "source": [
        "3. Write a Python function called exponent(base,exp) that returns an\n",
        "integer value of base raises to the power of exp. Sample input: Enter the\n",
        "base: 2 Enter the exponent: 3 Sample output: 8"
      ],
      "metadata": {
        "id": "RCYPBwUE5wmd"
      }
    },
    {
      "cell_type": "code",
      "source": [
        "def exponent(base, exp):                                #to calculate and return base raised to the power of exp as an integer\n",
        "    return int(base ** exp)\n",
        "base = int(input(\"Enter the base: \"))                   #give user inputs\n",
        "exp = int(input(\"Enter the exponent: \"))\n",
        "result = exponent(base, exp)                             # Call the function\n",
        "#print({base} \"raised to the power of \"{exp} ,result) # display the result\n",
        "print(\"ouput\",result)\n"
      ],
      "metadata": {
        "colab": {
          "base_uri": "https://localhost:8080/"
        },
        "id": "ukxHM3sI50ft",
        "outputId": "a509262b-956e-4b8e-944e-04c454eac3a8"
      },
      "execution_count": null,
      "outputs": [
        {
          "output_type": "stream",
          "name": "stdout",
          "text": [
            "Enter the base: 2\n",
            "Enter the exponent: 3\n",
            "ouput 8\n"
          ]
        }
      ]
    },
    {
      "cell_type": "markdown",
      "source": [
        "4. Write a Python function that takes a positive integer and returns the sum\n",
        "of the cube of all the positive integers smaller than the specified number.\n",
        "Sample input: 4 Sample output: 36."
      ],
      "metadata": {
        "id": "jVkqUkAb886s"
      }
    },
    {
      "cell_type": "code",
      "source": [
        "def sum_of_cubes(n):\n",
        "     total_sum = 0     # Initialize the sum\n",
        "     for i in range(1, n):     # to calculate the sum of cubes for each positive integer smaller than n\n",
        "        total_sum += i ** 3\n",
        "     return total_sum\n",
        "\n",
        "num = int(input(\"Enter a positive integer: \"))    #input positive integer\n",
        "result = sum_of_cubes(num)                       #call the function\n",
        "print(\"output:\" ,result   )          #display result\n"
      ],
      "metadata": {
        "colab": {
          "base_uri": "https://localhost:8080/"
        },
        "id": "J_Qx_oAUCqNV",
        "outputId": "9f17e5e3-5384-48a4-a774-a96acb6af522"
      },
      "execution_count": null,
      "outputs": [
        {
          "output_type": "stream",
          "name": "stdout",
          "text": [
            "Enter a positive integer: 4\n",
            "output: 36\n"
          ]
        }
      ]
    },
    {
      "cell_type": "markdown",
      "source": [
        "5. Write a Python program which iterates from 1 to 10. For multiples of 2,\n",
        "print “Fizz” instead of the number and for the multiples of 5, print “Buzz”.\n",
        "For numbers which are multiples of both 2 and 5, print “FizzBuzz”.\n",
        "Sample input: numbers from 1 to 10 Sample output: 1 Fizz 3 Fizz Buzz\n",
        "Fizz 7 Fizz 9 FizzBuzz"
      ],
      "metadata": {
        "id": "2hER5PhfCuVC"
      }
    },
    {
      "cell_type": "code",
      "source": [
        "for num in range(1, 11):                 # Iterate from 1 to 10\n",
        "    if num % 2 == 0 and num % 5 == 0:     # Check for multiples of 2 and 5\n",
        "        print(\"FizzBuzz\")\n",
        "    elif num % 2 == 0:\n",
        "        print(\"Fizz\")\n",
        "    elif num % 5 == 0:\n",
        "        print(\"Buzz\")\n",
        "    else:\n",
        "        print(num)"
      ],
      "metadata": {
        "colab": {
          "base_uri": "https://localhost:8080/"
        },
        "id": "0Pa6Gu8IDFCs",
        "outputId": "058e4bc2-ce8d-4e3d-ab4c-0a624bb02af9"
      },
      "execution_count": null,
      "outputs": [
        {
          "output_type": "stream",
          "name": "stdout",
          "text": [
            "1\n",
            "Fizz\n",
            "3\n",
            "Fizz\n",
            "Buzz\n",
            "Fizz\n",
            "7\n",
            "Fizz\n",
            "9\n",
            "FizzBuzz\n"
          ]
        }
      ]
    },
    {
      "cell_type": "markdown",
      "source": [
        "6. Write a Python program to find the most frequent item in a list of\n",
        "numbers. Sample input: 2, 3, 4, 2, 5, 2 Sample output: 2"
      ],
      "metadata": {
        "id": "u1ZrMij5DH2F"
      }
    },
    {
      "cell_type": "code",
      "source": [
        "numbers_input = input(\"Enter a list of numbers separated by commas: \")    #to input numbers\n",
        "numbers_list = [int(num) for num in numbers_input.split(',')]           # Convert the input string to a list of integers\n",
        "frequency_dict = {}                                                      #create dictionary\n",
        "for num in numbers_list:                                                # Iterate through the list and count the frequency of each number\n",
        "    frequency_dict[num] = frequency_dict.get(num, 0) + 1\n",
        "most_frequent_item = max(frequency_dict, key=frequency_dict.get)     #Find the most frequent item\n",
        "print(\"The most frequent item in the list is: \",most_frequent_item)  #to display output\n"
      ],
      "metadata": {
        "colab": {
          "base_uri": "https://localhost:8080/"
        },
        "id": "fN41rksxDa-A",
        "outputId": "5d446590-fd2f-401e-88b0-8b6bf585f715"
      },
      "execution_count": null,
      "outputs": [
        {
          "output_type": "stream",
          "name": "stdout",
          "text": [
            "Enter a list of numbers separated by commas: 2,3,4,2,5,2\n",
            "The most frequent item in the list is:  2\n"
          ]
        }
      ]
    },
    {
      "cell_type": "markdown",
      "source": [
        "7. Write a Python program to find the sum of squares of the numbers in a\n",
        "list. Sample input: 2,1,3,1 Sample output: 15\n"
      ],
      "metadata": {
        "id": "ke6t5wkXDu0z"
      }
    },
    {
      "cell_type": "code",
      "source": [
        "numbers_input = input(\"Enter a list of numbers separated by commas: \")    #to give user input\n",
        "numbers_list = [int(num) for num in numbers_input.split(',')]            # Convert the input string to a list of integers\n",
        "sum_of_squares = sum(num**2 for num in numbers_list)                   # Calculate the sum of squares\n",
        "print(\"The sum of squares of the numbers in the list is:\", sum_of_squares) #to display output\n"
      ],
      "metadata": {
        "colab": {
          "base_uri": "https://localhost:8080/"
        },
        "id": "OdR8A73bDyea",
        "outputId": "48ad769e-419a-442d-b1b2-4aa02563e899"
      },
      "execution_count": null,
      "outputs": [
        {
          "output_type": "stream",
          "name": "stdout",
          "text": [
            "Enter a list of numbers separated by commas: 2,1,3,1\n",
            "The sum of squares of the numbers in the list is: 15\n"
          ]
        }
      ]
    },
    {
      "cell_type": "markdown",
      "source": [
        "8. Write a Python program using for loop that will iterate from 1 to 15. For\n",
        "each iteration, check if the current number is odd or even, and display the\n",
        "message to the screen as odd or even. Sample input: 1….15 Sample\n",
        "output: 1-odd 2-even …. 15-odd"
      ],
      "metadata": {
        "id": "tdEAcdPdD8gh"
      }
    },
    {
      "cell_type": "code",
      "source": [
        "for num in range(1, 16):                            # Iterate from 1 to 15\n",
        "    if num % 2 == 0:                          #to check num is odd or even\n",
        "        print(num,\"even\")\n",
        "    else:\n",
        "        print(num,\"odd\")\n"
      ],
      "metadata": {
        "colab": {
          "base_uri": "https://localhost:8080/"
        },
        "id": "k9BkHNqqD9kQ",
        "outputId": "fabf1764-2f32-4b64-9ba0-784c4fbce331"
      },
      "execution_count": null,
      "outputs": [
        {
          "output_type": "stream",
          "name": "stdout",
          "text": [
            "1 odd\n",
            "2 even\n",
            "3 odd\n",
            "4 even\n",
            "5 odd\n",
            "6 even\n",
            "7 odd\n",
            "8 even\n",
            "9 odd\n",
            "10 even\n",
            "11 odd\n",
            "12 even\n",
            "13 odd\n",
            "14 even\n",
            "15 odd\n"
          ]
        }
      ]
    },
    {
      "cell_type": "markdown",
      "source": [
        "9. Write a Python program to convert temperatures to and from Celsius\n",
        "Fahrenheit. [Formula: c/5=f-32/9 where c=temperature in Celsius and f=\n",
        "temperature in Fahrenheit.] Sample input: Temperature in Fahrenheit\n",
        "=41 Sample output: Temperature in Celsius =5\n"
      ],
      "metadata": {
        "id": "qk1jSRJrEF9n"
      }
    },
    {
      "cell_type": "code",
      "source": [
        "def fahrenheit_to_celsius(fahrenheit):\n",
        "    celsius = (fahrenheit - 32) * 5 / 9\n",
        "    return celsius\n",
        "\n",
        "def celsius_to_fahrenheit(celsius):\n",
        "    fahrenheit = (celsius * 9 / 5) + 32\n",
        "    return fahrenheit\n",
        "\n",
        "fahrenheit_input = float(input(\"Temperature in Fahrenheit: \"))  #to give user input for temp in F\n",
        "celsius_result = fahrenheit_to_celsius(fahrenheit_input)        # Convert Fahrenheit to Celsius\n",
        "print(\"Temperature in Celsius:\",celsius_result)\n",
        "celsius_input = float(input(\"Temperature in Celsius: \"))      #to give user input for tempin Celsius\n",
        "fahrenheit_result = celsius_to_fahrenheit(celsius_input)      # Convert Celsius to Fahrenheit\n",
        "print(\"Temperature in Fahrenheit: \",fahrenheit_result)\n"
      ],
      "metadata": {
        "colab": {
          "base_uri": "https://localhost:8080/"
        },
        "id": "zY5_16YbEKVi",
        "outputId": "d89898f3-5824-4252-b4f1-ad65c750fda8"
      },
      "execution_count": null,
      "outputs": [
        {
          "output_type": "stream",
          "name": "stdout",
          "text": [
            "Temperature in Fahrenheit: 41\n",
            "Temperature in Celsius: 5.0\n",
            "Temperature in Celsius: 5\n",
            "Temperature in Fahrenheit:  41.0\n"
          ]
        }
      ]
    },
    {
      "cell_type": "markdown",
      "source": [
        "10. Write a Python function to calculate the factorial of a number (a\n",
        "nonnegative integer). The function accepts the number as an argument.\n",
        "Sample input: 3 Sample output: 6"
      ],
      "metadata": {
        "id": "s9BYA8pHEtnh"
      }
    },
    {
      "cell_type": "code",
      "source": [
        "def factorial(n):\n",
        "    if n == 0:                 # Base case\n",
        "        return 1\n",
        "    else:\n",
        "        return n * factorial(n - 1) # Recursive case\n",
        "number = int(input(\"Enter a non-negative integer: \"))  #to give user input\n",
        "result = factorial(number)      #functioncall\n",
        "print(\"The factorial of number is: \",result)  #display output\n"
      ],
      "metadata": {
        "colab": {
          "base_uri": "https://localhost:8080/"
        },
        "id": "RvUTVBYwExEE",
        "outputId": "24cb743a-2dd9-4f0d-e303-b6f120b8baf4"
      },
      "execution_count": null,
      "outputs": [
        {
          "output_type": "stream",
          "name": "stdout",
          "text": [
            "Enter a non-negative integer: 3\n",
            "The factorial of number is:  6\n"
          ]
        }
      ]
    }
  ]
}